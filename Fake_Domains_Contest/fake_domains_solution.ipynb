{
 "cells": [
  {
   "cell_type": "markdown",
   "metadata": {},
   "source": [
    "# False domains contest solution\n",
    "## F1-test score: 98,62\n",
    "### Done by Fedor Kitashov"
   ]
  },
  {
   "cell_type": "code",
   "execution_count": 1,
   "metadata": {
    "collapsed": false
   },
   "outputs": [
    {
     "name": "stdout",
     "output_type": "stream",
     "text": [
      "Populating the interactive namespace from numpy and matplotlib\n"
     ]
    }
   ],
   "source": [
    "from sklearn import ensemble , cross_validation, learning_curve, metrics \n",
    "\n",
    "import numpy as np\n",
    "import pandas as pd\n",
    "import xgboost as xgb\n",
    "import seaborn as sgs\n",
    "import numpy as np\n",
    "%pylab inline"
   ]
  },
  {
   "cell_type": "code",
   "execution_count": 2,
   "metadata": {
    "collapsed": true
   },
   "outputs": [],
   "source": [
    "import pandas as pd"
   ]
  },
  {
   "cell_type": "code",
   "execution_count": 3,
   "metadata": {
    "collapsed": false
   },
   "outputs": [],
   "source": [
    "train_data = pd.read_csv('train.csv', header=-1)"
   ]
  },
  {
   "cell_type": "code",
   "execution_count": 4,
   "metadata": {
    "collapsed": false,
    "scrolled": true
   },
   "outputs": [
    {
     "data": {
      "text/html": [
       "<div>\n",
       "<table border=\"1\" class=\"dataframe\">\n",
       "  <thead>\n",
       "    <tr style=\"text-align: right;\">\n",
       "      <th></th>\n",
       "      <th>0</th>\n",
       "      <th>1</th>\n",
       "    </tr>\n",
       "  </thead>\n",
       "  <tbody>\n",
       "    <tr>\n",
       "      <th>0</th>\n",
       "      <td>0.0</td>\n",
       "      <td>ethrdigljsvg.ru</td>\n",
       "    </tr>\n",
       "    <tr>\n",
       "      <th>1</th>\n",
       "      <td>0.0</td>\n",
       "      <td>1ytfboujfdew51uj1crz1p1sil1.org</td>\n",
       "    </tr>\n",
       "    <tr>\n",
       "      <th>2</th>\n",
       "      <td>1.0</td>\n",
       "      <td>my3w.com</td>\n",
       "    </tr>\n",
       "    <tr>\n",
       "      <th>3</th>\n",
       "      <td>0.0</td>\n",
       "      <td>sonafhei.ru</td>\n",
       "    </tr>\n",
       "    <tr>\n",
       "      <th>4</th>\n",
       "      <td>1.0</td>\n",
       "      <td>fullhdfilm.gen.tr</td>\n",
       "    </tr>\n",
       "  </tbody>\n",
       "</table>\n",
       "</div>"
      ],
      "text/plain": [
       "     0                                1\n",
       "0  0.0                  ethrdigljsvg.ru\n",
       "1  0.0  1ytfboujfdew51uj1crz1p1sil1.org\n",
       "2  1.0                         my3w.com\n",
       "3  0.0                      sonafhei.ru\n",
       "4  1.0                fullhdfilm.gen.tr"
      ]
     },
     "execution_count": 4,
     "metadata": {},
     "output_type": "execute_result"
    }
   ],
   "source": [
    "train_data.head()"
   ]
  },
  {
   "cell_type": "code",
   "execution_count": 69,
   "metadata": {
    "collapsed": false
   },
   "outputs": [],
   "source": [
    "x = np.array([])"
   ]
  },
  {
   "cell_type": "code",
   "execution_count": 71,
   "metadata": {
    "collapsed": false
   },
   "outputs": [],
   "source": [
    "def return_positive_data(dataframe):\n",
    "    data = np.array([])\n",
    "    for i in range(len(dataframe)):\n",
    "        if dataframe[0][i] == 1:\n",
    "            data.append(dataframe[1][i])\n",
    "    return data        \n",
    "        "
   ]
  },
  {
   "cell_type": "code",
   "execution_count": null,
   "metadata": {
    "collapsed": true
   },
   "outputs": [],
   "source": [
    "return_positive_data*"
   ]
  },
  {
   "cell_type": "code",
   "execution_count": 5,
   "metadata": {
    "collapsed": false
   },
   "outputs": [
    {
     "data": {
      "text/plain": [
       "(95000, 2)"
      ]
     },
     "execution_count": 5,
     "metadata": {},
     "output_type": "execute_result"
    }
   ],
   "source": [
    "train_data.shape"
   ]
  },
  {
   "cell_type": "code",
   "execution_count": 6,
   "metadata": {
    "collapsed": false
   },
   "outputs": [
    {
     "data": {
      "text/plain": [
       "Int64Index([0, 1], dtype='int64')"
      ]
     },
     "execution_count": 6,
     "metadata": {},
     "output_type": "execute_result"
    }
   ],
   "source": [
    "train_data.columns"
   ]
  },
  {
   "cell_type": "code",
   "execution_count": 7,
   "metadata": {
    "collapsed": false
   },
   "outputs": [],
   "source": [
    "train_data_target = train_data[0].values"
   ]
  },
  {
   "cell_type": "code",
   "execution_count": 8,
   "metadata": {
    "collapsed": false
   },
   "outputs": [
    {
     "name": "stdout",
     "output_type": "stream",
     "text": [
      "[ 0.  0.  1. ...,  0.  1.  1.]\n"
     ]
    }
   ],
   "source": [
    "print train_data_target"
   ]
  },
  {
   "cell_type": "code",
   "execution_count": 9,
   "metadata": {
    "collapsed": false
   },
   "outputs": [
    {
     "name": "stdout",
     "output_type": "stream",
     "text": [
      "<type 'numpy.ndarray'>\n"
     ]
    }
   ],
   "source": [
    "print type(train_data_target)"
   ]
  },
  {
   "cell_type": "code",
   "execution_count": 10,
   "metadata": {
    "collapsed": false
   },
   "outputs": [
    {
     "name": "stdout",
     "output_type": "stream",
     "text": [
      "(95000,)\n"
     ]
    }
   ],
   "source": [
    "print train_data_target.shape"
   ]
  },
  {
   "cell_type": "code",
   "execution_count": 11,
   "metadata": {
    "collapsed": false
   },
   "outputs": [],
   "source": [
    "data_target = train_data_target.reshape(95000,)"
   ]
  },
  {
   "cell_type": "code",
   "execution_count": 12,
   "metadata": {
    "collapsed": false
   },
   "outputs": [
    {
     "name": "stdout",
     "output_type": "stream",
     "text": [
      "(95000,)\n"
     ]
    }
   ],
   "source": [
    "print data_target.shape"
   ]
  },
  {
   "cell_type": "code",
   "execution_count": 13,
   "metadata": {
    "collapsed": false
   },
   "outputs": [
    {
     "name": "stdout",
     "output_type": "stream",
     "text": [
      "95000\n"
     ]
    }
   ],
   "source": [
    "print len(train_data_target)"
   ]
  },
  {
   "cell_type": "code",
   "execution_count": 59,
   "metadata": {
    "collapsed": true
   },
   "outputs": [],
   "source": [
    "data = train_data.iloc[:, 1:]"
   ]
  },
  {
   "cell_type": "code",
   "execution_count": 36,
   "metadata": {
    "collapsed": false
   },
   "outputs": [
    {
     "data": {
      "text/html": [
       "<div>\n",
       "<table border=\"1\" class=\"dataframe\">\n",
       "  <thead>\n",
       "    <tr style=\"text-align: right;\">\n",
       "      <th></th>\n",
       "      <th>1</th>\n",
       "    </tr>\n",
       "  </thead>\n",
       "  <tbody>\n",
       "    <tr>\n",
       "      <th>0</th>\n",
       "      <td>ethrdigljsvg.ru</td>\n",
       "    </tr>\n",
       "    <tr>\n",
       "      <th>1</th>\n",
       "      <td>1ytfboujfdew51uj1crz1p1sil1.org</td>\n",
       "    </tr>\n",
       "    <tr>\n",
       "      <th>2</th>\n",
       "      <td>my3w.com</td>\n",
       "    </tr>\n",
       "    <tr>\n",
       "      <th>3</th>\n",
       "      <td>sonafhei.ru</td>\n",
       "    </tr>\n",
       "    <tr>\n",
       "      <th>4</th>\n",
       "      <td>fullhdfilm.gen.tr</td>\n",
       "    </tr>\n",
       "  </tbody>\n",
       "</table>\n",
       "</div>"
      ],
      "text/plain": [
       "                                 1\n",
       "0                  ethrdigljsvg.ru\n",
       "1  1ytfboujfdew51uj1crz1p1sil1.org\n",
       "2                         my3w.com\n",
       "3                      sonafhei.ru\n",
       "4                fullhdfilm.gen.tr"
      ]
     },
     "execution_count": 36,
     "metadata": {},
     "output_type": "execute_result"
    }
   ],
   "source": [
    "data.head()"
   ]
  },
  {
   "cell_type": "code",
   "execution_count": 46,
   "metadata": {
    "collapsed": false
   },
   "outputs": [
    {
     "data": {
      "text/html": [
       "<div>\n",
       "<table border=\"1\" class=\"dataframe\">\n",
       "  <thead>\n",
       "    <tr style=\"text-align: right;\">\n",
       "      <th></th>\n",
       "      <th>1</th>\n",
       "    </tr>\n",
       "  </thead>\n",
       "  <tbody>\n",
       "    <tr>\n",
       "      <th>0</th>\n",
       "      <td>ethrdigljsvg.ru</td>\n",
       "    </tr>\n",
       "  </tbody>\n",
       "</table>\n",
       "</div>"
      ],
      "text/plain": [
       "                 1\n",
       "0  ethrdigljsvg.ru"
      ]
     },
     "execution_count": 46,
     "metadata": {},
     "output_type": "execute_result"
    }
   ],
   "source": [
    "data.iloc[:1,]"
   ]
  },
  {
   "cell_type": "code",
   "execution_count": 16,
   "metadata": {
    "collapsed": false
   },
   "outputs": [
    {
     "name": "stdout",
     "output_type": "stream",
     "text": [
      "                                 1\n",
      "0                  ethrdigljsvg.ru\n",
      "1  1ytfboujfdew51uj1crz1p1sil1.org\n",
      "2                         my3w.com\n",
      "3                      sonafhei.ru\n",
      "4                fullhdfilm.gen.tr\n"
     ]
    }
   ],
   "source": [
    "print data[:5]"
   ]
  },
  {
   "cell_type": "code",
   "execution_count": 17,
   "metadata": {
    "collapsed": false
   },
   "outputs": [],
   "source": [
    "nd_data = data.as_matrix()"
   ]
  },
  {
   "cell_type": "code",
   "execution_count": 18,
   "metadata": {
    "collapsed": false
   },
   "outputs": [
    {
     "name": "stdout",
     "output_type": "stream",
     "text": [
      "[['ethrdigljsvg.ru']\n",
      " ['1ytfboujfdew51uj1crz1p1sil1.org']\n",
      " ['my3w.com']\n",
      " ..., \n",
      " ['heibedwwbxsj.com']\n",
      " ['cartstick.com']\n",
      " ['rtbs24.com']]\n",
      "(95000, 1)\n"
     ]
    }
   ],
   "source": [
    "print nd_data\n",
    "print nd_data.shape"
   ]
  },
  {
   "cell_type": "code",
   "execution_count": 19,
   "metadata": {
    "collapsed": false
   },
   "outputs": [
    {
     "name": "stdout",
     "output_type": "stream",
     "text": [
      "(95000, 1)\n"
     ]
    }
   ],
   "source": [
    "print nd_data.shape"
   ]
  },
  {
   "cell_type": "code",
   "execution_count": 47,
   "metadata": {
    "collapsed": false
   },
   "outputs": [
    {
     "name": "stdout",
     "output_type": "stream",
     "text": [
      "[['ethrdigljsvg.ru']\n",
      " ['1ytfboujfdew51uj1crz1p1sil1.org']\n",
      " ['my3w.com']\n",
      " ..., \n",
      " ['heibedwwbxsj.com']\n",
      " ['cartstick.com']\n",
      " ['rtbs24.com']]\n"
     ]
    }
   ],
   "source": [
    "print nd_data"
   ]
  },
  {
   "cell_type": "code",
   "execution_count": 58,
   "metadata": {
    "collapsed": false
   },
   "outputs": [
    {
     "name": "stdout",
     "output_type": "stream",
     "text": [
      "19\n"
     ]
    }
   ],
   "source": [
    "\n",
    "\n",
    "print len(np.array_str(nd_data[0]))"
   ]
  },
  {
   "cell_type": "code",
   "execution_count": 21,
   "metadata": {
    "collapsed": true
   },
   "outputs": [],
   "source": [
    "from sklearn.feature_extraction.text import CountVectorizer\n",
    "\n",
    "cv = CountVectorizer(analyzer='char', \n",
    "                     ngram_range=(0,4))\n",
    "\n",
    "matrix = cv.fit_transform(nd_data.ravel())"
   ]
  },
  {
   "cell_type": "code",
   "execution_count": 22,
   "metadata": {
    "collapsed": false
   },
   "outputs": [
    {
     "data": {
      "text/plain": [
       "<95000x270833 sparse matrix of type '<type 'numpy.int64'>'\n",
       "\twith 5595067 stored elements in Compressed Sparse Row format>"
      ]
     },
     "execution_count": 22,
     "metadata": {},
     "output_type": "execute_result"
    }
   ],
   "source": [
    "matrix"
   ]
  },
  {
   "cell_type": "code",
   "execution_count": 23,
   "metadata": {
    "collapsed": false
   },
   "outputs": [
    {
     "name": "stdout",
     "output_type": "stream",
     "text": [
      "(95000,)\n"
     ]
    }
   ],
   "source": [
    "print data_target.shape"
   ]
  },
  {
   "cell_type": "code",
   "execution_count": 24,
   "metadata": {
    "collapsed": true
   },
   "outputs": [],
   "source": [
    "from sklearn.cross_validation import train_test_split\n",
    "\n",
    "X_train, X_test, y_train, y_test = train_test_split(matrix, \n",
    "                                                    data_target, \n",
    "                                                    test_size=0.33, \n",
    "                                                    random_state=42)"
   ]
  },
  {
   "cell_type": "code",
   "execution_count": 25,
   "metadata": {
    "collapsed": false
   },
   "outputs": [
    {
     "name": "stdout",
     "output_type": "stream",
     "text": [
      "31350\n"
     ]
    }
   ],
   "source": [
    "print len(y_test)"
   ]
  },
  {
   "cell_type": "code",
   "execution_count": null,
   "metadata": {
    "collapsed": true
   },
   "outputs": [],
   "source": []
  },
  {
   "cell_type": "code",
   "execution_count": 26,
   "metadata": {
    "collapsed": false
   },
   "outputs": [
    {
     "data": {
      "text/plain": [
       "RandomForestClassifier(bootstrap=True, class_weight=None, criterion='gini',\n",
       "            max_depth=200, max_features='auto', max_leaf_nodes=None,\n",
       "            min_samples_leaf=1, min_samples_split=2,\n",
       "            min_weight_fraction_leaf=0.0, n_estimators=46, n_jobs=1,\n",
       "            oob_score=False, random_state=1, verbose=0, warm_start=False)"
      ]
     },
     "execution_count": 26,
     "metadata": {},
     "output_type": "execute_result"
    }
   ],
   "source": [
    "from sklearn.ensemble import RandomForestClassifier\n",
    "\n",
    "model = RandomForestClassifier(n_estimators=46, max_depth = 200, random_state = 1)\n",
    "model.fit(X_train, y_train)"
   ]
  },
  {
   "cell_type": "markdown",
   "metadata": {},
   "source": [
    "# Accuracy from trees count dependency"
   ]
  },
  {
   "cell_type": "code",
   "execution_count": 552,
   "metadata": {
    "collapsed": true
   },
   "outputs": [],
   "source": [
    "n_trees = [1] + range(150, 1000, 50) "
   ]
  },
  {
   "cell_type": "code",
   "execution_count": 553,
   "metadata": {
    "collapsed": false
   },
   "outputs": [
    {
     "name": "stdout",
     "output_type": "stream",
     "text": [
      "CPU times: user 12min 29s, sys: 7.25 s, total: 12min 36s\n",
      "Wall time: 8min 29s\n"
     ]
    }
   ],
   "source": [
    "%%time\n",
    "scoring = []\n",
    "for n_tree in n_trees:\n",
    "    estimator = ensemble.RandomForestClassifier(n_estimators = n_tree, min_samples_split=5, random_state=1)\n",
    "    score = cross_validation.cross_val_score(estimator, X_train, y_train, \n",
    "                                             scoring = 'accuracy', cv = 3)    \n",
    "    scoring.append(score)\n",
    "scoring = np.asmatrix(scoring)"
   ]
  },
  {
   "cell_type": "code",
   "execution_count": 554,
   "metadata": {
    "collapsed": false
   },
   "outputs": [
    {
     "data": {
      "text/plain": [
       "matrix([[ 0.86271091,  0.87132353,  0.86213235],\n",
       "        [ 0.96385145,  0.96229261,  0.96177413],\n",
       "        [ 0.96908285,  0.96733597,  0.96809012],\n",
       "        [ 0.9729475 ,  0.97237934,  0.97101244],\n",
       "        [ 0.97417287,  0.97346342,  0.97256787],\n",
       "        [ 0.97478556,  0.97468891,  0.97360483],\n",
       "        [ 0.9759638 ,  0.97487745,  0.97388763],\n",
       "        [ 0.97700066,  0.97525452,  0.97525452],\n",
       "        [ 0.97695353,  0.97516026,  0.97596154],\n",
       "        [ 0.97681214,  0.9754902 ,  0.975773  ]])"
      ]
     },
     "execution_count": 554,
     "metadata": {},
     "output_type": "execute_result"
    }
   ],
   "source": [
    "scoring"
   ]
  },
  {
   "cell_type": "code",
   "execution_count": 555,
   "metadata": {
    "collapsed": false
   },
   "outputs": [
    {
     "data": {
      "text/plain": [
       "<matplotlib.legend.Legend at 0x7fd172a42110>"
      ]
     },
     "execution_count": 555,
     "metadata": {},
     "output_type": "execute_result"
    },
    {
     "data": {
      "image/png": "[encoded data removed]",
      "text/plain": [
       "<matplotlib.figure.Figure at 0x7fd172a42150>"
      ]
     },
     "metadata": {},
     "output_type": "display_data"
    }
   ],
   "source": [
    "pylab.plot(n_trees, scoring.mean(axis = 1), marker='.', label='RandomForest')\n",
    "pylab.grid(True)\n",
    "pylab.xlabel('n_trees')\n",
    "pylab.ylabel('score')\n",
    "pylab.title('Accuracy score')\n",
    "pylab.legend(loc='lower right')"
   ]
  },
  {
   "cell_type": "markdown",
   "metadata": {},
   "source": [
    "# XGBoost"
   ]
  },
  {
   "cell_type": "code",
   "execution_count": 529,
   "metadata": {
    "collapsed": false,
    "scrolled": true
   },
   "outputs": [
    {
     "data": {
      "text/plain": [
       "XGBClassifier(base_score=0.5, colsample_bytree=1, gamma=0, learning_rate=0.1,\n",
       "       max_delta_step=0, max_depth=200, min_child_weight=3, missing=None,\n",
       "       n_estimators=46, nthread=-1, objective='binary:logistic', seed=0,\n",
       "       silent=True, subsample=1)"
      ]
     },
     "execution_count": 529,
     "metadata": {},
     "output_type": "execute_result"
    }
   ],
   "source": [
    "model = xgb.XGBClassifier(learning_rate=0.1, max_depth=200, n_estimators=46, min_child_weight=3)\n",
    "model.fit(X_train, y_train)"
   ]
  },
  {
   "cell_type": "markdown",
   "metadata": {},
   "source": [
    "# Cross-validation testing"
   ]
  },
  {
   "cell_type": "code",
   "execution_count": 28,
   "metadata": {
    "collapsed": false
   },
   "outputs": [
    {
     "data": {
      "text/plain": [
       "<31350x270833 sparse matrix of type '<type 'numpy.int64'>'\n",
       "\twith 1847444 stored elements in Compressed Sparse Row format>"
      ]
     },
     "execution_count": 28,
     "metadata": {},
     "output_type": "execute_result"
    }
   ],
   "source": [
    "X_test"
   ]
  },
  {
   "cell_type": "code",
   "execution_count": 29,
   "metadata": {
    "collapsed": false
   },
   "outputs": [],
   "source": [
    "preds = model.predict(X_test)"
   ]
  },
  {
   "cell_type": "code",
   "execution_count": 30,
   "metadata": {
    "collapsed": false
   },
   "outputs": [
    {
     "name": "stdout",
     "output_type": "stream",
     "text": [
      "[ 1.  1.  1. ...,  1.  1.  0.]\n"
     ]
    }
   ],
   "source": [
    "print preds"
   ]
  },
  {
   "cell_type": "code",
   "execution_count": 31,
   "metadata": {
    "collapsed": false
   },
   "outputs": [
    {
     "name": "stdout",
     "output_type": "stream",
     "text": [
      "[ 1.  1.  1. ...,  1.  1.  0.]\n"
     ]
    }
   ],
   "source": [
    "print y_test"
   ]
  },
  {
   "cell_type": "code",
   "execution_count": 32,
   "metadata": {
    "collapsed": false
   },
   "outputs": [
    {
     "name": "stdout",
     "output_type": "stream",
     "text": [
      "31350\n"
     ]
    }
   ],
   "source": [
    "print len(y_test)"
   ]
  },
  {
   "cell_type": "code",
   "execution_count": 33,
   "metadata": {
    "collapsed": false
   },
   "outputs": [
    {
     "data": {
      "text/plain": [
       "[1, 3]"
      ]
     },
     "execution_count": 33,
     "metadata": {},
     "output_type": "execute_result"
    }
   ],
   "source": [
    "a = [1, 0, 1, 0, 1]\n",
    "b = [1, 1, 1, 1, 1]\n",
    "\n",
    "\n",
    "def error_numbers(a, b):\n",
    "    errors = []\n",
    "    i = 0\n",
    "    for i in range(len(a)):\n",
    "        if a[i] != b[i]:\n",
    "            errors.append(i)\n",
    "\n",
    "    return errors\n",
    "\n",
    "error_numbers(a, b)"
   ]
  },
  {
   "cell_type": "code",
   "execution_count": 34,
   "metadata": {
    "collapsed": false
   },
   "outputs": [
    {
     "name": "stdout",
     "output_type": "stream",
     "text": [
      "603\n"
     ]
    }
   ],
   "source": [
    "preds_error = error_numbers(preds, y_test)\n",
    "\n",
    "print len(preds_error)\n"
   ]
  },
  {
   "cell_type": "code",
   "execution_count": 149,
   "metadata": {
    "collapsed": false
   },
   "outputs": [],
   "source": [
    "test = train_data[-31350:]"
   ]
  },
  {
   "cell_type": "code",
   "execution_count": 150,
   "metadata": {
    "collapsed": false
   },
   "outputs": [
    {
     "data": {
      "text/html": [
       "<div>\n",
       "<table border=\"1\" class=\"dataframe\">\n",
       "  <thead>\n",
       "    <tr style=\"text-align: right;\">\n",
       "      <th></th>\n",
       "      <th>0</th>\n",
       "      <th>1</th>\n",
       "    </tr>\n",
       "  </thead>\n",
       "  <tbody>\n",
       "    <tr>\n",
       "      <th>63722</th>\n",
       "      <td>0.0</td>\n",
       "      <td>gfchbeddckjb.com</td>\n",
       "    </tr>\n",
       "    <tr>\n",
       "      <th>63759</th>\n",
       "      <td>1.0</td>\n",
       "      <td>nearandroid.com</td>\n",
       "    </tr>\n",
       "    <tr>\n",
       "      <th>63878</th>\n",
       "      <td>0.0</td>\n",
       "      <td>1398yzijondsi10frbra9cu534.org</td>\n",
       "    </tr>\n",
       "    <tr>\n",
       "      <th>63906</th>\n",
       "      <td>1.0</td>\n",
       "      <td>diyready.com</td>\n",
       "    </tr>\n",
       "    <tr>\n",
       "      <th>63940</th>\n",
       "      <td>0.0</td>\n",
       "      <td>bytotoconsentisthethem.com</td>\n",
       "    </tr>\n",
       "    <tr>\n",
       "      <th>63953</th>\n",
       "      <td>0.0</td>\n",
       "      <td>ofandothershererelinquish.com</td>\n",
       "    </tr>\n",
       "    <tr>\n",
       "      <th>63982</th>\n",
       "      <td>0.0</td>\n",
       "      <td>dugkeava.ru</td>\n",
       "    </tr>\n",
       "    <tr>\n",
       "      <th>64003</th>\n",
       "      <td>1.0</td>\n",
       "      <td>sigmalive.com</td>\n",
       "    </tr>\n",
       "    <tr>\n",
       "      <th>64031</th>\n",
       "      <td>0.0</td>\n",
       "      <td>lhhgjyryltdo.com</td>\n",
       "    </tr>\n",
       "    <tr>\n",
       "      <th>64045</th>\n",
       "      <td>0.0</td>\n",
       "      <td>irontrackconditionwaketower.com</td>\n",
       "    </tr>\n",
       "    <tr>\n",
       "      <th>64048</th>\n",
       "      <td>0.0</td>\n",
       "      <td>bdcdebcmenub.com</td>\n",
       "    </tr>\n",
       "    <tr>\n",
       "      <th>64055</th>\n",
       "      <td>1.0</td>\n",
       "      <td>kreativeideer.com</td>\n",
       "    </tr>\n",
       "    <tr>\n",
       "      <th>64079</th>\n",
       "      <td>1.0</td>\n",
       "      <td>cortera.com</td>\n",
       "    </tr>\n",
       "    <tr>\n",
       "      <th>64099</th>\n",
       "      <td>0.0</td>\n",
       "      <td>1yxcqel650bwgveubf31a00396.net</td>\n",
       "    </tr>\n",
       "    <tr>\n",
       "      <th>64117</th>\n",
       "      <td>0.0</td>\n",
       "      <td>neogoreo.ru</td>\n",
       "    </tr>\n",
       "    <tr>\n",
       "      <th>64142</th>\n",
       "      <td>1.0</td>\n",
       "      <td>infospyware.com</td>\n",
       "    </tr>\n",
       "    <tr>\n",
       "      <th>64159</th>\n",
       "      <td>0.0</td>\n",
       "      <td>5rcrxn1aplze4s9r6bl137kaio.net</td>\n",
       "    </tr>\n",
       "    <tr>\n",
       "      <th>64163</th>\n",
       "      <td>1.0</td>\n",
       "      <td>gamestarmechanic.com</td>\n",
       "    </tr>\n",
       "    <tr>\n",
       "      <th>64173</th>\n",
       "      <td>1.0</td>\n",
       "      <td>middlebury.edu</td>\n",
       "    </tr>\n",
       "    <tr>\n",
       "      <th>64180</th>\n",
       "      <td>0.0</td>\n",
       "      <td>1d2gz3n9hox0z1m2ds6ujfxba3.net</td>\n",
       "    </tr>\n",
       "    <tr>\n",
       "      <th>64193</th>\n",
       "      <td>0.0</td>\n",
       "      <td>1vd4dj83740iij0gtkn1d9ad45.net</td>\n",
       "    </tr>\n",
       "    <tr>\n",
       "      <th>64225</th>\n",
       "      <td>0.0</td>\n",
       "      <td>1xn8hiofz5qis1dxmba21nuwtyy.net</td>\n",
       "    </tr>\n",
       "    <tr>\n",
       "      <th>64246</th>\n",
       "      <td>1.0</td>\n",
       "      <td>aruba.it</td>\n",
       "    </tr>\n",
       "    <tr>\n",
       "      <th>64255</th>\n",
       "      <td>0.0</td>\n",
       "      <td>1de954d17stp6n8repo814ymyk3.biz</td>\n",
       "    </tr>\n",
       "    <tr>\n",
       "      <th>64300</th>\n",
       "      <td>0.0</td>\n",
       "      <td>7uh7lj1nle3n4bwhfdb155k13j.net</td>\n",
       "    </tr>\n",
       "    <tr>\n",
       "      <th>64344</th>\n",
       "      <td>1.0</td>\n",
       "      <td>amway.my</td>\n",
       "    </tr>\n",
       "    <tr>\n",
       "      <th>64367</th>\n",
       "      <td>1.0</td>\n",
       "      <td>bootyoftheday.co</td>\n",
       "    </tr>\n",
       "    <tr>\n",
       "      <th>64371</th>\n",
       "      <td>0.0</td>\n",
       "      <td>fxiwyddwwmkrxb.ru</td>\n",
       "    </tr>\n",
       "    <tr>\n",
       "      <th>64374</th>\n",
       "      <td>1.0</td>\n",
       "      <td>secure.squarespace.com</td>\n",
       "    </tr>\n",
       "    <tr>\n",
       "      <th>64375</th>\n",
       "      <td>0.0</td>\n",
       "      <td>shipcontentreasoncourtprogram.com</td>\n",
       "    </tr>\n",
       "    <tr>\n",
       "      <th>...</th>\n",
       "      <td>...</td>\n",
       "      <td>...</td>\n",
       "    </tr>\n",
       "    <tr>\n",
       "      <th>94050</th>\n",
       "      <td>1.0</td>\n",
       "      <td>pakfiles.com</td>\n",
       "    </tr>\n",
       "    <tr>\n",
       "      <th>94080</th>\n",
       "      <td>1.0</td>\n",
       "      <td>gigasena.com.br</td>\n",
       "    </tr>\n",
       "    <tr>\n",
       "      <th>94106</th>\n",
       "      <td>1.0</td>\n",
       "      <td>buydomains.com</td>\n",
       "    </tr>\n",
       "    <tr>\n",
       "      <th>94215</th>\n",
       "      <td>1.0</td>\n",
       "      <td>repmbuycurl.com</td>\n",
       "    </tr>\n",
       "    <tr>\n",
       "      <th>94219</th>\n",
       "      <td>1.0</td>\n",
       "      <td>xiaogushi.com</td>\n",
       "    </tr>\n",
       "    <tr>\n",
       "      <th>94279</th>\n",
       "      <td>1.0</td>\n",
       "      <td>enomcentral.com</td>\n",
       "    </tr>\n",
       "    <tr>\n",
       "      <th>94286</th>\n",
       "      <td>1.0</td>\n",
       "      <td>influxdata.com</td>\n",
       "    </tr>\n",
       "    <tr>\n",
       "      <th>94316</th>\n",
       "      <td>1.0</td>\n",
       "      <td>bookmakersbet.ru</td>\n",
       "    </tr>\n",
       "    <tr>\n",
       "      <th>94349</th>\n",
       "      <td>0.0</td>\n",
       "      <td>nifodeov.ru</td>\n",
       "    </tr>\n",
       "    <tr>\n",
       "      <th>94360</th>\n",
       "      <td>1.0</td>\n",
       "      <td>kommersant.ru</td>\n",
       "    </tr>\n",
       "    <tr>\n",
       "      <th>94376</th>\n",
       "      <td>0.0</td>\n",
       "      <td>certaintheirinwarfree.com</td>\n",
       "    </tr>\n",
       "    <tr>\n",
       "      <th>94443</th>\n",
       "      <td>0.0</td>\n",
       "      <td>13ylvfm10cv0gs1t6kg641pbzgws.com</td>\n",
       "    </tr>\n",
       "    <tr>\n",
       "      <th>94468</th>\n",
       "      <td>0.0</td>\n",
       "      <td>daughterclubcelebratebox.com</td>\n",
       "    </tr>\n",
       "    <tr>\n",
       "      <th>94482</th>\n",
       "      <td>0.0</td>\n",
       "      <td>tgybht1hw4oy21nmrg8qs4ijpb.net</td>\n",
       "    </tr>\n",
       "    <tr>\n",
       "      <th>94499</th>\n",
       "      <td>0.0</td>\n",
       "      <td>onlytobringofforprovidence.com</td>\n",
       "    </tr>\n",
       "    <tr>\n",
       "      <th>94501</th>\n",
       "      <td>0.0</td>\n",
       "      <td>micrukir.ru</td>\n",
       "    </tr>\n",
       "    <tr>\n",
       "      <th>94559</th>\n",
       "      <td>0.0</td>\n",
       "      <td>utterlyofcharacterand.com</td>\n",
       "    </tr>\n",
       "    <tr>\n",
       "      <th>94573</th>\n",
       "      <td>0.0</td>\n",
       "      <td>25orq3kc1esz107va191fl17go.biz</td>\n",
       "    </tr>\n",
       "    <tr>\n",
       "      <th>94597</th>\n",
       "      <td>1.0</td>\n",
       "      <td>teamworld.it</td>\n",
       "    </tr>\n",
       "    <tr>\n",
       "      <th>94615</th>\n",
       "      <td>0.0</td>\n",
       "      <td>rkkpjlhsnugmeiu.ru</td>\n",
       "    </tr>\n",
       "    <tr>\n",
       "      <th>94627</th>\n",
       "      <td>0.0</td>\n",
       "      <td>johugkug.ru</td>\n",
       "    </tr>\n",
       "    <tr>\n",
       "      <th>94639</th>\n",
       "      <td>1.0</td>\n",
       "      <td>c-date.com.br</td>\n",
       "    </tr>\n",
       "    <tr>\n",
       "      <th>94662</th>\n",
       "      <td>0.0</td>\n",
       "      <td>hgkcogwjiulc.com</td>\n",
       "    </tr>\n",
       "    <tr>\n",
       "      <th>94700</th>\n",
       "      <td>1.0</td>\n",
       "      <td>ebay.nl</td>\n",
       "    </tr>\n",
       "    <tr>\n",
       "      <th>94734</th>\n",
       "      <td>1.0</td>\n",
       "      <td>vercomicsporno.com</td>\n",
       "    </tr>\n",
       "    <tr>\n",
       "      <th>94742</th>\n",
       "      <td>0.0</td>\n",
       "      <td>ejmlsrgofmdc.com</td>\n",
       "    </tr>\n",
       "    <tr>\n",
       "      <th>94791</th>\n",
       "      <td>0.0</td>\n",
       "      <td>hiscrownwhichconstrained.com</td>\n",
       "    </tr>\n",
       "    <tr>\n",
       "      <th>94897</th>\n",
       "      <td>0.0</td>\n",
       "      <td>vrrhrxlvfrdhv.ru</td>\n",
       "    </tr>\n",
       "    <tr>\n",
       "      <th>94962</th>\n",
       "      <td>1.0</td>\n",
       "      <td>horror-shop.com</td>\n",
       "    </tr>\n",
       "    <tr>\n",
       "      <th>94980</th>\n",
       "      <td>1.0</td>\n",
       "      <td>thegodfathr.com</td>\n",
       "    </tr>\n",
       "  </tbody>\n",
       "</table>\n",
       "<p>1210 rows × 2 columns</p>\n",
       "</div>"
      ],
      "text/plain": [
       "         0                                  1\n",
       "63722  0.0                   gfchbeddckjb.com\n",
       "63759  1.0                    nearandroid.com\n",
       "63878  0.0     1398yzijondsi10frbra9cu534.org\n",
       "63906  1.0                       diyready.com\n",
       "63940  0.0         bytotoconsentisthethem.com\n",
       "63953  0.0      ofandothershererelinquish.com\n",
       "63982  0.0                        dugkeava.ru\n",
       "64003  1.0                      sigmalive.com\n",
       "64031  0.0                   lhhgjyryltdo.com\n",
       "64045  0.0    irontrackconditionwaketower.com\n",
       "64048  0.0                   bdcdebcmenub.com\n",
       "64055  1.0                  kreativeideer.com\n",
       "64079  1.0                        cortera.com\n",
       "64099  0.0     1yxcqel650bwgveubf31a00396.net\n",
       "64117  0.0                        neogoreo.ru\n",
       "64142  1.0                    infospyware.com\n",
       "64159  0.0     5rcrxn1aplze4s9r6bl137kaio.net\n",
       "64163  1.0               gamestarmechanic.com\n",
       "64173  1.0                     middlebury.edu\n",
       "64180  0.0     1d2gz3n9hox0z1m2ds6ujfxba3.net\n",
       "64193  0.0     1vd4dj83740iij0gtkn1d9ad45.net\n",
       "64225  0.0    1xn8hiofz5qis1dxmba21nuwtyy.net\n",
       "64246  1.0                           aruba.it\n",
       "64255  0.0    1de954d17stp6n8repo814ymyk3.biz\n",
       "64300  0.0     7uh7lj1nle3n4bwhfdb155k13j.net\n",
       "64344  1.0                           amway.my\n",
       "64367  1.0                   bootyoftheday.co\n",
       "64371  0.0                  fxiwyddwwmkrxb.ru\n",
       "64374  1.0             secure.squarespace.com\n",
       "64375  0.0  shipcontentreasoncourtprogram.com\n",
       "...    ...                                ...\n",
       "94050  1.0                       pakfiles.com\n",
       "94080  1.0                    gigasena.com.br\n",
       "94106  1.0                     buydomains.com\n",
       "94215  1.0                    repmbuycurl.com\n",
       "94219  1.0                      xiaogushi.com\n",
       "94279  1.0                    enomcentral.com\n",
       "94286  1.0                     influxdata.com\n",
       "94316  1.0                   bookmakersbet.ru\n",
       "94349  0.0                        nifodeov.ru\n",
       "94360  1.0                      kommersant.ru\n",
       "94376  0.0          certaintheirinwarfree.com\n",
       "94443  0.0   13ylvfm10cv0gs1t6kg641pbzgws.com\n",
       "94468  0.0       daughterclubcelebratebox.com\n",
       "94482  0.0     tgybht1hw4oy21nmrg8qs4ijpb.net\n",
       "94499  0.0     onlytobringofforprovidence.com\n",
       "94501  0.0                        micrukir.ru\n",
       "94559  0.0          utterlyofcharacterand.com\n",
       "94573  0.0     25orq3kc1esz107va191fl17go.biz\n",
       "94597  1.0                       teamworld.it\n",
       "94615  0.0                 rkkpjlhsnugmeiu.ru\n",
       "94627  0.0                        johugkug.ru\n",
       "94639  1.0                      c-date.com.br\n",
       "94662  0.0                   hgkcogwjiulc.com\n",
       "94700  1.0                            ebay.nl\n",
       "94734  1.0                 vercomicsporno.com\n",
       "94742  0.0                   ejmlsrgofmdc.com\n",
       "94791  0.0       hiscrownwhichconstrained.com\n",
       "94897  0.0                   vrrhrxlvfrdhv.ru\n",
       "94962  1.0                    horror-shop.com\n",
       "94980  1.0                    thegodfathr.com\n",
       "\n",
       "[1210 rows x 2 columns]"
      ]
     },
     "execution_count": 150,
     "metadata": {},
     "output_type": "execute_result"
    }
   ],
   "source": [
    "test.iloc[preds_error,]"
   ]
  },
  {
   "cell_type": "markdown",
   "metadata": {},
   "source": [
    "# Second testing before submitting\n"
   ]
  },
  {
   "cell_type": "code",
   "execution_count": 118,
   "metadata": {
    "collapsed": true
   },
   "outputs": [],
   "source": [
    "test_data = pd.read_csv('test.csv', header = -1)"
   ]
  },
  {
   "cell_type": "code",
   "execution_count": 119,
   "metadata": {
    "collapsed": false
   },
   "outputs": [
    {
     "name": "stdout",
     "output_type": "stream",
     "text": [
      "                           0\n",
      "0                rowanbat.ru\n",
      "1  weastateswhoseamerica.com\n",
      "2              rankstore.com\n",
      "3                meodeopa.ru\n",
      "4           govrsvxqvvvf.com\n"
     ]
    }
   ],
   "source": [
    "print test_data.head()"
   ]
  },
  {
   "cell_type": "code",
   "execution_count": 120,
   "metadata": {
    "collapsed": true
   },
   "outputs": [],
   "source": [
    "nd_test = test_data.as_matrix()"
   ]
  },
  {
   "cell_type": "code",
   "execution_count": 121,
   "metadata": {
    "collapsed": false
   },
   "outputs": [
    {
     "name": "stdout",
     "output_type": "stream",
     "text": [
      "[['rowanbat.ru']\n",
      " ['weastateswhoseamerica.com']\n",
      " ['rankstore.com']\n",
      " ..., \n",
      " ['cupcoqsu.ru']\n",
      " ['aadharcarduidai.in']\n",
      " ['skillproxy.org']]\n"
     ]
    }
   ],
   "source": [
    "print nd_test"
   ]
  },
  {
   "cell_type": "code",
   "execution_count": 122,
   "metadata": {
    "collapsed": false
   },
   "outputs": [
    {
     "name": "stdout",
     "output_type": "stream",
     "text": [
      "(5000, 1)\n"
     ]
    }
   ],
   "source": [
    "print nd_test.shape"
   ]
  },
  {
   "cell_type": "code",
   "execution_count": 123,
   "metadata": {
    "collapsed": true
   },
   "outputs": [],
   "source": [
    "#from sklearn.feature_extraction.text import CountVectorizer\n",
    "\n",
    "#cv = CountVectorizer(analyzer='char', \n",
    "                    # ngram_range=(1,3))\n",
    "\n",
    "test_matrix = cv.transform(nd_test.ravel())"
   ]
  },
  {
   "cell_type": "code",
   "execution_count": 124,
   "metadata": {
    "collapsed": false
   },
   "outputs": [
    {
     "data": {
      "text/plain": [
       "<5000x36443 sparse matrix of type '<type 'numpy.int64'>'\n",
       "\twith 221906 stored elements in Compressed Sparse Row format>"
      ]
     },
     "execution_count": 124,
     "metadata": {},
     "output_type": "execute_result"
    }
   ],
   "source": [
    "test_matrix"
   ]
  },
  {
   "cell_type": "code",
   "execution_count": 125,
   "metadata": {
    "collapsed": false
   },
   "outputs": [],
   "source": [
    "test_preds = model.predict(test_matrix)"
   ]
  },
  {
   "cell_type": "code",
   "execution_count": 126,
   "metadata": {
    "collapsed": false
   },
   "outputs": [
    {
     "name": "stdout",
     "output_type": "stream",
     "text": [
      "[ 0.  0.  1. ...,  0.  1.  1.]\n"
     ]
    }
   ],
   "source": [
    "print test_preds"
   ]
  },
  {
   "cell_type": "code",
   "execution_count": 127,
   "metadata": {
    "collapsed": false
   },
   "outputs": [
    {
     "data": {
      "text/plain": [
       "numpy.ndarray"
      ]
     },
     "execution_count": 127,
     "metadata": {},
     "output_type": "execute_result"
    }
   ],
   "source": [
    "type(test_preds)"
   ]
  },
  {
   "cell_type": "code",
   "execution_count": 128,
   "metadata": {
    "collapsed": false
   },
   "outputs": [
    {
     "name": "stdout",
     "output_type": "stream",
     "text": [
      "                           0\n",
      "0                rowanbat.ru\n",
      "1  weastateswhoseamerica.com\n",
      "2              rankstore.com\n",
      "3                meodeopa.ru\n",
      "4           govrsvxqvvvf.com\n"
     ]
    }
   ],
   "source": [
    "print test_data.head()"
   ]
  },
  {
   "cell_type": "code",
   "execution_count": 129,
   "metadata": {
    "collapsed": false
   },
   "outputs": [],
   "source": [
    "dataframe = ['test_preds']"
   ]
  },
  {
   "cell_type": "code",
   "execution_count": 130,
   "metadata": {
    "collapsed": false
   },
   "outputs": [
    {
     "data": {
      "text/plain": [
       "(5000, 1)"
      ]
     },
     "execution_count": 130,
     "metadata": {},
     "output_type": "execute_result"
    }
   ],
   "source": [
    "nd_test.shape"
   ]
  },
  {
   "cell_type": "code",
   "execution_count": 131,
   "metadata": {
    "collapsed": true
   },
   "outputs": [],
   "source": [
    "nd_test = nd_test.reshape(5000,)"
   ]
  },
  {
   "cell_type": "code",
   "execution_count": 132,
   "metadata": {
    "collapsed": false
   },
   "outputs": [],
   "source": [
    "df = pd.DataFrame({'0':test_preds, '1':nd_test})"
   ]
  },
  {
   "cell_type": "code",
   "execution_count": 133,
   "metadata": {
    "collapsed": false
   },
   "outputs": [
    {
     "name": "stdout",
     "output_type": "stream",
     "text": [
      "     0                          1\n",
      "0  0.0                rowanbat.ru\n",
      "1  0.0  weastateswhoseamerica.com\n",
      "2  1.0              rankstore.com\n",
      "3  0.0                meodeopa.ru\n",
      "4  0.0           govrsvxqvvvf.com\n"
     ]
    }
   ],
   "source": [
    "print df.head()"
   ]
  },
  {
   "cell_type": "code",
   "execution_count": 134,
   "metadata": {
    "collapsed": false,
    "scrolled": true
   },
   "outputs": [
    {
     "data": {
      "text/html": [
       "<div>\n",
       "<table border=\"1\" class=\"dataframe\">\n",
       "  <thead>\n",
       "    <tr style=\"text-align: right;\">\n",
       "      <th></th>\n",
       "      <th>0</th>\n",
       "      <th>1</th>\n",
       "    </tr>\n",
       "  </thead>\n",
       "  <tbody>\n",
       "    <tr>\n",
       "      <th>0</th>\n",
       "      <td>0.0</td>\n",
       "      <td>rowanbat.ru</td>\n",
       "    </tr>\n",
       "    <tr>\n",
       "      <th>1</th>\n",
       "      <td>0.0</td>\n",
       "      <td>weastateswhoseamerica.com</td>\n",
       "    </tr>\n",
       "    <tr>\n",
       "      <th>2</th>\n",
       "      <td>1.0</td>\n",
       "      <td>rankstore.com</td>\n",
       "    </tr>\n",
       "    <tr>\n",
       "      <th>3</th>\n",
       "      <td>0.0</td>\n",
       "      <td>meodeopa.ru</td>\n",
       "    </tr>\n",
       "    <tr>\n",
       "      <th>4</th>\n",
       "      <td>0.0</td>\n",
       "      <td>govrsvxqvvvf.com</td>\n",
       "    </tr>\n",
       "  </tbody>\n",
       "</table>\n",
       "</div>"
      ],
      "text/plain": [
       "     0                          1\n",
       "0  0.0                rowanbat.ru\n",
       "1  0.0  weastateswhoseamerica.com\n",
       "2  1.0              rankstore.com\n",
       "3  0.0                meodeopa.ru\n",
       "4  0.0           govrsvxqvvvf.com"
      ]
     },
     "execution_count": 134,
     "metadata": {},
     "output_type": "execute_result"
    }
   ],
   "source": [
    "df.head()"
   ]
  },
  {
   "cell_type": "code",
   "execution_count": 135,
   "metadata": {
    "collapsed": false
   },
   "outputs": [],
   "source": [
    "df.to_csv('answer.csv', header = 0, index = False)"
   ]
  },
  {
   "cell_type": "markdown",
   "metadata": {
    "collapsed": true
   },
   "source": [
    "# Some additional attemps with simple classifiers"
   ]
  },
  {
   "cell_type": "code",
   "execution_count": 222,
   "metadata": {
    "collapsed": false
   },
   "outputs": [
    {
     "name": "stdout",
     "output_type": "stream",
     "text": [
      "[0 0 0 ..., 0 0 0]\n"
     ]
    }
   ],
   "source": [
    "from sklearn.cluster import KMeans\n",
    "\n",
    "model = KMeans(n_clusters=2, random_state=1)\n",
    "preds = model.fit_predict(matrix.toarray())\n",
    "print preds"
   ]
  },
  {
   "cell_type": "code",
   "execution_count": 157,
   "metadata": {
    "collapsed": false
   },
   "outputs": [
    {
     "name": "stdout",
     "output_type": "stream",
     "text": [
      "[[ 0.]\n",
      " [ 1.]\n",
      " [ 0.]\n",
      " ..., \n",
      " [ 0.]\n",
      " [ 1.]\n",
      " [ 1.]]\n"
     ]
    }
   ],
   "source": [
    "print data_target"
   ]
  },
  {
   "cell_type": "code",
   "execution_count": 180,
   "metadata": {
    "collapsed": false
   },
   "outputs": [
    {
     "name": "stdout",
     "output_type": "stream",
     "text": [
      "0.614048552004\n"
     ]
    }
   ],
   "source": [
    "from sklearn.linear_model import LogisticRegression\n",
    "from sklearn.cross_validation import cross_val_score\n",
    "clf = LogisticRegression()\n",
    "print cross_val_score(clf, matrix, data_target).mean()"
   ]
  },
  {
   "cell_type": "code",
   "execution_count": 181,
   "metadata": {
    "collapsed": true
   },
   "outputs": [],
   "source": [
    "n_trees = [1] + range(10, 55, 5) "
   ]
  },
  {
   "cell_type": "code",
   "execution_count": 183,
   "metadata": {
    "collapsed": false
   },
   "outputs": [
    {
     "name": "stdout",
     "output_type": "stream",
     "text": [
      "CPU times: user 3min 34s, sys: 2.73 s, total: 3min 37s\n",
      "Wall time: 2min\n"
     ]
    }
   ],
   "source": [
    "%%time\n",
    "scoring = []\n",
    "for n_tree in n_trees:\n",
    "    estimator = ensemble.RandomForestClassifier(n_estimators = n_tree, min_samples_split=5, random_state=1)\n",
    "    score = cross_validation.cross_val_score(estimator, matrix, data_target, \n",
    "                                             scoring = 'accuracy', cv = 3)    \n",
    "    scoring.append(score)\n",
    "scoring = np.asmatrix(scoring)"
   ]
  },
  {
   "cell_type": "code",
   "execution_count": 186,
   "metadata": {
    "collapsed": false
   },
   "outputs": [
    {
     "data": {
      "text/plain": [
       "matrix([[ 0.61540405,  0.61273922,  0.61330765],\n",
       "        [ 0.61556194,  0.61305501,  0.61343397],\n",
       "        [ 0.61556194,  0.61302343,  0.61340239],\n",
       "        [ 0.61556194,  0.61302343,  0.61340239],\n",
       "        [ 0.61556194,  0.61302343,  0.61343397],\n",
       "        [ 0.61556194,  0.61302343,  0.61343397],\n",
       "        [ 0.61556194,  0.61302343,  0.61343397],\n",
       "        [ 0.61556194,  0.61302343,  0.61343397],\n",
       "        [ 0.61556194,  0.61302343,  0.61343397],\n",
       "        [ 0.61556194,  0.61302343,  0.61340239]])"
      ]
     },
     "execution_count": 186,
     "metadata": {},
     "output_type": "execute_result"
    }
   ],
   "source": [
    "scoring"
   ]
  },
  {
   "cell_type": "code",
   "execution_count": 187,
   "metadata": {
    "collapsed": false
   },
   "outputs": [
    {
     "name": "stdout",
     "output_type": "stream",
     "text": [
      "Populating the interactive namespace from numpy and matplotlib\n"
     ]
    },
    {
     "name": "stderr",
     "output_type": "stream",
     "text": [
      "WARNING: pylab import has clobbered these variables: ['clf', 'matrix']\n",
      "`%matplotlib` prevents importing * from pylab and numpy\n"
     ]
    }
   ],
   "source": [
    "%pylab inline"
   ]
  },
  {
   "cell_type": "code",
   "execution_count": 188,
   "metadata": {
    "collapsed": false
   },
   "outputs": [
    {
     "data": {
      "text/plain": [
       "<matplotlib.legend.Legend at 0x7fd168131790>"
      ]
     },
     "execution_count": 188,
     "metadata": {},
     "output_type": "execute_result"
    },
    {
     "data": {
      "image/png": "[encoded data removed]",
      "text/plain": [
       "<matplotlib.figure.Figure at 0x7fd1681317d0>"
      ]
     },
     "metadata": {},
     "output_type": "display_data"
    }
   ],
   "source": [
    "pylab.plot(n_trees, scoring.mean(axis = 1), marker='.', label='RandomForest')\n",
    "pylab.grid(True)\n",
    "pylab.xlabel('n_trees')\n",
    "pylab.ylabel('score')\n",
    "pylab.title('Accuracy score')\n",
    "pylab.legend(loc='lower right')"
   ]
  },
  {
   "cell_type": "code",
   "execution_count": 194,
   "metadata": {
    "collapsed": true
   },
   "outputs": [],
   "source": [
    "from sklearn.ensemble import RandomForestClassifier\n",
    "\n",
    "clf = RandomForestClassifier(n_estimators=46, max_depth = 10, random_state = 1)"
   ]
  },
  {
   "cell_type": "code",
   "execution_count": 197,
   "metadata": {
    "collapsed": false
   },
   "outputs": [
    {
     "name": "stdout",
     "output_type": "stream",
     "text": [
      "<type 'type'>\n"
     ]
    }
   ],
   "source": [
    "print type(matrix)"
   ]
  },
  {
   "cell_type": "code",
   "execution_count": null,
   "metadata": {
    "collapsed": true
   },
   "outputs": [],
   "source": []
  }
 ],
 "metadata": {
  "anaconda-cloud": {},
  "kernelspec": {
   "display_name": "Python [conda root]",
   "language": "python",
   "name": "conda-root-py"
  },
  "language_info": {
   "codemirror_mode": {
    "name": "ipython",
    "version": 2
   },
   "file_extension": ".py",
   "mimetype": "text/x-python",
   "name": "python",
   "nbconvert_exporter": "python",
   "pygments_lexer": "ipython2",
   "version": "2.7.12"
  }
 },
 "nbformat": 4,
 "nbformat_minor": 1
}
